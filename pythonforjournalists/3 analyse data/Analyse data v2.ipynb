{
 "cells": [
  {
   "cell_type": "markdown",
   "metadata": {},
   "source": [
    "# Analyse data with Python Pandas"
   ]
  },
  {
   "cell_type": "markdown",
   "metadata": {},
   "source": [
    "Welcome to this Jupyter Notebook! \n",
    "  \n",
    "Today you'll learn how to import a CSV file into a Jupyter Notebook, and how to clean up messy data. This notebook is part of the course Python for Journalists at [Learno.net](learno.net). The data used originally comes from [the Electoral Commission website](http://search.electoralcommission.org.uk/Search?currentPage=1&rows=10&sort=AcceptedDate&order=desc&tab=1&open=filter&et=pp&isIrishSourceYes=false&isIrishSourceNo=false&date=Reported&from=&to=&quarters=2018Q12&rptPd=3617&prePoll=false&postPoll=false&donorStatus=individual&donorStatus=tradeunion&donorStatus=company&donorStatus=unincorporatedassociation&donorStatus=publicfund&donorStatus=other&donorStatus=registeredpoliticalparty&donorStatus=friendlysociety&donorStatus=trust&donorStatus=limitedliabilitypartnership&donorStatus=impermissibledonor&donorStatus=na&donorStatus=unidentifiabledonor&donorStatus=buildingsociety&register=ni&register=gb&optCols=Register&optCols=IsIrishSource&optCols=ReportingPeriodName), but is edited for training purposes. The edited dataset is available on the Learno website. \n",
    "\n",
    "## About Jupyter Notebooks and Pandas\n",
    "\n",
    "Right now you're looking at a Jupyter Notebook: an interactive, browser based programming environment. You can use these notebooks to program in R, Julia or Python - as you'll be doing later on. Read more about Jupyter Notebook in the [Jupyter Notebook Quick Start Guide](https://jupyter-notebook-beginner-guide.readthedocs.io/en/latest/what_is_jupyter.html). \n",
    "  \n",
    "To clean up our data, we'll be using Python and Pandas. Pandas is an open-source Python library - basically an extra toolkit to go with Python - that is designed for data analysis. Pandas is flexible, easy to use and has lots of useful functions built right in. Read more about Pandas and its features in [the Pandas documentation](https://pandas.pydata.org/pandas-docs/stable/).\n",
    "\n",
    "**Notebook shortcuts**  \n",
    "\n",
    "Within Jupyter Notebooks, there are some shortcuts you can use. If you'll be using more notebooks for your data analysis in the future, you'll remember these shortcuts soon enough. :) \n",
    "\n",
    "* `esc` will take you into command mode\n",
    "* `a` will insert cell above\n",
    "* `b` will insert cell below\n",
    "* `shift then tab` will show you the documentation for your code\n",
    "* `shift and enter` will run your cell\n",
    "* ` d d` will delete a cell\n",
    "\n",
    "**Pandas dictionary**\n",
    "\n",
    "* **dataframe**: dataframe is Pandas speak for a table with a labeled y-axis, also known as an index. (The index usually starts at 0.)\n",
    "* **series**: a series is a list, a series can be made of a single column within a dataframe.\n",
    "\n",
    "Before we dive in, a little more about Jupyter Notebooks. Every notebooks is made out of cells. A cell can either contain Markdown text - like this one - or code. In the latter you can execute your code. To see what that means, type the following command in the next cell `print(\"hello world\")`."
   ]
  },
  {
   "cell_type": "code",
   "execution_count": 1,
   "metadata": {},
   "outputs": [
    {
     "name": "stdout",
     "output_type": "stream",
     "text": [
      "Welcome!\n"
     ]
    }
   ],
   "source": [
    "print('Welcome!')"
   ]
  },
  {
   "cell_type": "markdown",
   "metadata": {},
   "source": [
    "## Getting started"
   ]
  },
  {
   "cell_type": "markdown",
   "metadata": {},
   "source": [
    "In the module 'Clean data' from this course, we cleaned up a dataset with donations to political parties in the UK. Now, we're going to analyse the data in that dataset. Let's start by importing the Pandas library, using `import pandas as pd`."
   ]
  },
  {
   "cell_type": "code",
   "execution_count": 2,
   "metadata": {},
   "outputs": [],
   "source": [
    "import pandas as pd"
   ]
  },
  {
   "cell_type": "markdown",
   "metadata": {},
   "source": [
    "Now, import the cleaned dataset, use `df = pd.read_csv('/path/to/file_with_clean_data.csv')`."
   ]
  },
  {
   "cell_type": "markdown",
   "metadata": {},
   "source": [
    "## Importing data"
   ]
  },
  {
   "cell_type": "code",
   "execution_count": 3,
   "metadata": {},
   "outputs": [],
   "source": [
    "df = pd.read_csv('results_clean.csv')"
   ]
  },
  {
   "cell_type": "markdown",
   "metadata": {},
   "source": [
    "Let's see if the data is anything like you'd expect, use `df.head()`, `df.tail()` or `df.sample()`."
   ]
  },
  {
   "cell_type": "code",
   "execution_count": 4,
   "metadata": {},
   "outputs": [
    {
     "data": {
      "text/html": [
       "<div>\n",
       "<style scoped>\n",
       "    .dataframe tbody tr th:only-of-type {\n",
       "        vertical-align: middle;\n",
       "    }\n",
       "\n",
       "    .dataframe tbody tr th {\n",
       "        vertical-align: top;\n",
       "    }\n",
       "\n",
       "    .dataframe thead th {\n",
       "        text-align: right;\n",
       "    }\n",
       "</style>\n",
       "<table border=\"1\" class=\"dataframe\">\n",
       "  <thead>\n",
       "    <tr style=\"text-align: right;\">\n",
       "      <th></th>\n",
       "      <th>Unnamed: 0</th>\n",
       "      <th>RegulatedEntityName</th>\n",
       "      <th>AcceptedDate</th>\n",
       "      <th>DonorName</th>\n",
       "      <th>DonorStatus</th>\n",
       "      <th>Year</th>\n",
       "      <th>Month</th>\n",
       "      <th>Value</th>\n",
       "      <th>RegulatedEntityType</th>\n",
       "      <th>DonorId</th>\n",
       "      <th>CampaigningName</th>\n",
       "    </tr>\n",
       "  </thead>\n",
       "  <tbody>\n",
       "    <tr>\n",
       "      <th>0</th>\n",
       "      <td>0</td>\n",
       "      <td>Plaid Cymru - The Party of Wales</td>\n",
       "      <td>2018-12-19</td>\n",
       "      <td>Mr Alun Ffred Jones</td>\n",
       "      <td>Individual</td>\n",
       "      <td>2018</td>\n",
       "      <td>12</td>\n",
       "      <td>20000.0</td>\n",
       "      <td>Political Party</td>\n",
       "      <td>83318</td>\n",
       "      <td>NaN</td>\n",
       "    </tr>\n",
       "    <tr>\n",
       "      <th>1</th>\n",
       "      <td>1</td>\n",
       "      <td>Liberal Democrats</td>\n",
       "      <td>2017-12-31</td>\n",
       "      <td>Ms Kirsten Bayes</td>\n",
       "      <td>Individual</td>\n",
       "      <td>2017</td>\n",
       "      <td>12</td>\n",
       "      <td>1800.0</td>\n",
       "      <td>Political Party</td>\n",
       "      <td>43033</td>\n",
       "      <td>NaN</td>\n",
       "    </tr>\n",
       "    <tr>\n",
       "      <th>2</th>\n",
       "      <td>2</td>\n",
       "      <td>Liberal Democrats</td>\n",
       "      <td>2017-12-31</td>\n",
       "      <td>Mr Steve  Webb</td>\n",
       "      <td>Individual</td>\n",
       "      <td>2017</td>\n",
       "      <td>12</td>\n",
       "      <td>3000.0</td>\n",
       "      <td>Political Party</td>\n",
       "      <td>35400</td>\n",
       "      <td>NaN</td>\n",
       "    </tr>\n",
       "    <tr>\n",
       "      <th>3</th>\n",
       "      <td>3</td>\n",
       "      <td>Liberal Democrats</td>\n",
       "      <td>2017-12-31</td>\n",
       "      <td>Mr Tim Farron</td>\n",
       "      <td>Individual</td>\n",
       "      <td>2017</td>\n",
       "      <td>12</td>\n",
       "      <td>1560.0</td>\n",
       "      <td>Political Party</td>\n",
       "      <td>76661</td>\n",
       "      <td>NaN</td>\n",
       "    </tr>\n",
       "    <tr>\n",
       "      <th>4</th>\n",
       "      <td>4</td>\n",
       "      <td>Liberal Democrats</td>\n",
       "      <td>2017-12-31</td>\n",
       "      <td>Mr Duncan Greenland</td>\n",
       "      <td>Individual</td>\n",
       "      <td>2017</td>\n",
       "      <td>12</td>\n",
       "      <td>7750.0</td>\n",
       "      <td>Political Party</td>\n",
       "      <td>35403</td>\n",
       "      <td>NaN</td>\n",
       "    </tr>\n",
       "  </tbody>\n",
       "</table>\n",
       "</div>"
      ],
      "text/plain": [
       "   Unnamed: 0               RegulatedEntityName AcceptedDate  \\\n",
       "0           0  Plaid Cymru - The Party of Wales   2018-12-19   \n",
       "1           1                 Liberal Democrats   2017-12-31   \n",
       "2           2                 Liberal Democrats   2017-12-31   \n",
       "3           3                 Liberal Democrats   2017-12-31   \n",
       "4           4                 Liberal Democrats   2017-12-31   \n",
       "\n",
       "             DonorName DonorStatus  Year  Month    Value RegulatedEntityType  \\\n",
       "0  Mr Alun Ffred Jones  Individual  2018     12  20000.0     Political Party   \n",
       "1     Ms Kirsten Bayes  Individual  2017     12   1800.0     Political Party   \n",
       "2       Mr Steve  Webb  Individual  2017     12   3000.0     Political Party   \n",
       "3        Mr Tim Farron  Individual  2017     12   1560.0     Political Party   \n",
       "4  Mr Duncan Greenland  Individual  2017     12   7750.0     Political Party   \n",
       "\n",
       "   DonorId  CampaigningName  \n",
       "0    83318              NaN  \n",
       "1    43033              NaN  \n",
       "2    35400              NaN  \n",
       "3    76661              NaN  \n",
       "4    35403              NaN  "
      ]
     },
     "execution_count": 4,
     "metadata": {},
     "output_type": "execute_result"
    }
   ],
   "source": [
    "df.head()"
   ]
  },
  {
   "cell_type": "markdown",
   "metadata": {},
   "source": [
    "Whoops! When we saved the data after cleaning it, the index was saved in an unnamed column. With importing, Pandas added a new index... Let's get rid of the 'Unnamed: 0' column. Drop it like it's hot... `df = df.drop('Unnamed: 0', 1)`."
   ]
  },
  {
   "cell_type": "code",
   "execution_count": 6,
   "metadata": {},
   "outputs": [],
   "source": [
    "df = df.drop('Unnamed: 0', 1)"
   ]
  },
  {
   "cell_type": "markdown",
   "metadata": {},
   "source": [
    "Let's see if this worked, use `df.head()`, `df.tail()` or `df.sample()`.\n",
    "\n"
   ]
  },
  {
   "cell_type": "code",
   "execution_count": 7,
   "metadata": {},
   "outputs": [
    {
     "data": {
      "text/html": [
       "<div>\n",
       "<style scoped>\n",
       "    .dataframe tbody tr th:only-of-type {\n",
       "        vertical-align: middle;\n",
       "    }\n",
       "\n",
       "    .dataframe tbody tr th {\n",
       "        vertical-align: top;\n",
       "    }\n",
       "\n",
       "    .dataframe thead th {\n",
       "        text-align: right;\n",
       "    }\n",
       "</style>\n",
       "<table border=\"1\" class=\"dataframe\">\n",
       "  <thead>\n",
       "    <tr style=\"text-align: right;\">\n",
       "      <th></th>\n",
       "      <th>RegulatedEntityName</th>\n",
       "      <th>AcceptedDate</th>\n",
       "      <th>DonorName</th>\n",
       "      <th>DonorStatus</th>\n",
       "      <th>Year</th>\n",
       "      <th>Month</th>\n",
       "      <th>Value</th>\n",
       "      <th>RegulatedEntityType</th>\n",
       "      <th>DonorId</th>\n",
       "      <th>CampaigningName</th>\n",
       "    </tr>\n",
       "  </thead>\n",
       "  <tbody>\n",
       "    <tr>\n",
       "      <th>233</th>\n",
       "      <td>Conservative and Unionist Party</td>\n",
       "      <td>2017-10-25</td>\n",
       "      <td>Mr Ravi S Kailas</td>\n",
       "      <td>Individual</td>\n",
       "      <td>2017</td>\n",
       "      <td>10</td>\n",
       "      <td>2000.00</td>\n",
       "      <td>Political Party</td>\n",
       "      <td>74743</td>\n",
       "      <td>NaN</td>\n",
       "    </tr>\n",
       "    <tr>\n",
       "      <th>191</th>\n",
       "      <td>Labour Party</td>\n",
       "      <td>2017-11-21</td>\n",
       "      <td>Lord Charles Falconer of Thoroton</td>\n",
       "      <td>Individual</td>\n",
       "      <td>2017</td>\n",
       "      <td>11</td>\n",
       "      <td>833.00</td>\n",
       "      <td>Political Party</td>\n",
       "      <td>83993</td>\n",
       "      <td>NaN</td>\n",
       "    </tr>\n",
       "    <tr>\n",
       "      <th>14</th>\n",
       "      <td>Liberal Democrats</td>\n",
       "      <td>2017-12-31</td>\n",
       "      <td>Mr Dave  Hodgson</td>\n",
       "      <td>Individual</td>\n",
       "      <td>2017</td>\n",
       "      <td>12</td>\n",
       "      <td>2250.00</td>\n",
       "      <td>Political Party</td>\n",
       "      <td>34493</td>\n",
       "      <td>NaN</td>\n",
       "    </tr>\n",
       "    <tr>\n",
       "      <th>61</th>\n",
       "      <td>Liberal Democrats</td>\n",
       "      <td>2017-12-31</td>\n",
       "      <td>Ms Helen Clucas</td>\n",
       "      <td>Individual</td>\n",
       "      <td>2017</td>\n",
       "      <td>12</td>\n",
       "      <td>1908.00</td>\n",
       "      <td>Political Party</td>\n",
       "      <td>83348</td>\n",
       "      <td>NaN</td>\n",
       "    </tr>\n",
       "    <tr>\n",
       "      <th>44</th>\n",
       "      <td>Liberal Democrats</td>\n",
       "      <td>2017-12-31</td>\n",
       "      <td>Cllr Joe Harris</td>\n",
       "      <td>Individual</td>\n",
       "      <td>2017</td>\n",
       "      <td>12</td>\n",
       "      <td>1557.25</td>\n",
       "      <td>Political Party</td>\n",
       "      <td>75240</td>\n",
       "      <td>NaN</td>\n",
       "    </tr>\n",
       "    <tr>\n",
       "      <th>72</th>\n",
       "      <td>Liberal Democrats</td>\n",
       "      <td>2017-12-31</td>\n",
       "      <td>Mr John Hale</td>\n",
       "      <td>Individual</td>\n",
       "      <td>2017</td>\n",
       "      <td>12</td>\n",
       "      <td>1600.00</td>\n",
       "      <td>Political Party</td>\n",
       "      <td>76632</td>\n",
       "      <td>NaN</td>\n",
       "    </tr>\n",
       "    <tr>\n",
       "      <th>284</th>\n",
       "      <td>Conservative and Unionist Party</td>\n",
       "      <td>2017-04-29</td>\n",
       "      <td>Mr Daniel D Laycock</td>\n",
       "      <td>Individual</td>\n",
       "      <td>2017</td>\n",
       "      <td>4</td>\n",
       "      <td>2500.00</td>\n",
       "      <td>Political Party</td>\n",
       "      <td>83824</td>\n",
       "      <td>NaN</td>\n",
       "    </tr>\n",
       "    <tr>\n",
       "      <th>46</th>\n",
       "      <td>Liberal Democrats</td>\n",
       "      <td>2017-12-31</td>\n",
       "      <td>Mr Dennis Meredith</td>\n",
       "      <td>Individual</td>\n",
       "      <td>2017</td>\n",
       "      <td>12</td>\n",
       "      <td>2003.41</td>\n",
       "      <td>Political Party</td>\n",
       "      <td>83355</td>\n",
       "      <td>NaN</td>\n",
       "    </tr>\n",
       "    <tr>\n",
       "      <th>95</th>\n",
       "      <td>Liberal Democrats</td>\n",
       "      <td>2017-12-31</td>\n",
       "      <td>Ms Philippa  Connor</td>\n",
       "      <td>Individual</td>\n",
       "      <td>2017</td>\n",
       "      <td>12</td>\n",
       "      <td>2061.96</td>\n",
       "      <td>Political Party</td>\n",
       "      <td>54385</td>\n",
       "      <td>NaN</td>\n",
       "    </tr>\n",
       "  </tbody>\n",
       "</table>\n",
       "</div>"
      ],
      "text/plain": [
       "                 RegulatedEntityName AcceptedDate  \\\n",
       "233  Conservative and Unionist Party   2017-10-25   \n",
       "191                     Labour Party   2017-11-21   \n",
       "14                 Liberal Democrats   2017-12-31   \n",
       "61                 Liberal Democrats   2017-12-31   \n",
       "44                 Liberal Democrats   2017-12-31   \n",
       "72                 Liberal Democrats   2017-12-31   \n",
       "284  Conservative and Unionist Party   2017-04-29   \n",
       "46                 Liberal Democrats   2017-12-31   \n",
       "95                 Liberal Democrats   2017-12-31   \n",
       "\n",
       "                             DonorName DonorStatus  Year  Month    Value  \\\n",
       "233                   Mr Ravi S Kailas  Individual  2017     10  2000.00   \n",
       "191  Lord Charles Falconer of Thoroton  Individual  2017     11   833.00   \n",
       "14                    Mr Dave  Hodgson  Individual  2017     12  2250.00   \n",
       "61                     Ms Helen Clucas  Individual  2017     12  1908.00   \n",
       "44                     Cllr Joe Harris  Individual  2017     12  1557.25   \n",
       "72                        Mr John Hale  Individual  2017     12  1600.00   \n",
       "284                Mr Daniel D Laycock  Individual  2017      4  2500.00   \n",
       "46                  Mr Dennis Meredith  Individual  2017     12  2003.41   \n",
       "95                 Ms Philippa  Connor  Individual  2017     12  2061.96   \n",
       "\n",
       "    RegulatedEntityType  DonorId  CampaigningName  \n",
       "233     Political Party    74743              NaN  \n",
       "191     Political Party    83993              NaN  \n",
       "14      Political Party    34493              NaN  \n",
       "61      Political Party    83348              NaN  \n",
       "44      Political Party    75240              NaN  \n",
       "72      Political Party    76632              NaN  \n",
       "284     Political Party    83824              NaN  \n",
       "46      Political Party    83355              NaN  \n",
       "95      Political Party    54385              NaN  "
      ]
     },
     "execution_count": 7,
     "metadata": {},
     "output_type": "execute_result"
    }
   ],
   "source": [
    "df.sample(9)"
   ]
  },
  {
   "cell_type": "markdown",
   "metadata": {},
   "source": [
    "Now, if this looks better, let's get started and analyse some data.\n",
    "\n",
    "# Analyse data\n",
    "\n",
    "## Statistical summary\n",
    "\n",
    "In the module Clean data, you already saw the power of `df.describe()`. This function gives a basic statistical summary of every column in the dataset. It will give you even more information when you tell the function that you want everything included, like this: `df.describe(include='all')`"
   ]
  },
  {
   "cell_type": "code",
   "execution_count": 11,
   "metadata": {},
   "outputs": [
    {
     "data": {
      "text/html": [
       "<div>\n",
       "<style scoped>\n",
       "    .dataframe tbody tr th:only-of-type {\n",
       "        vertical-align: middle;\n",
       "    }\n",
       "\n",
       "    .dataframe tbody tr th {\n",
       "        vertical-align: top;\n",
       "    }\n",
       "\n",
       "    .dataframe thead th {\n",
       "        text-align: right;\n",
       "    }\n",
       "</style>\n",
       "<table border=\"1\" class=\"dataframe\">\n",
       "  <thead>\n",
       "    <tr style=\"text-align: right;\">\n",
       "      <th></th>\n",
       "      <th>RegulatedEntityName</th>\n",
       "      <th>AcceptedDate</th>\n",
       "      <th>DonorName</th>\n",
       "      <th>DonorStatus</th>\n",
       "      <th>Year</th>\n",
       "      <th>Month</th>\n",
       "      <th>Value</th>\n",
       "      <th>RegulatedEntityType</th>\n",
       "      <th>DonorId</th>\n",
       "      <th>CampaigningName</th>\n",
       "    </tr>\n",
       "  </thead>\n",
       "  <tbody>\n",
       "    <tr>\n",
       "      <th>count</th>\n",
       "      <td>300</td>\n",
       "      <td>300</td>\n",
       "      <td>300</td>\n",
       "      <td>300</td>\n",
       "      <td>300.000000</td>\n",
       "      <td>300.000000</td>\n",
       "      <td>300.000000</td>\n",
       "      <td>300</td>\n",
       "      <td>300.000000</td>\n",
       "      <td>0.0</td>\n",
       "    </tr>\n",
       "    <tr>\n",
       "      <th>unique</th>\n",
       "      <td>11</td>\n",
       "      <td>91</td>\n",
       "      <td>247</td>\n",
       "      <td>1</td>\n",
       "      <td>NaN</td>\n",
       "      <td>NaN</td>\n",
       "      <td>NaN</td>\n",
       "      <td>1</td>\n",
       "      <td>NaN</td>\n",
       "      <td>NaN</td>\n",
       "    </tr>\n",
       "    <tr>\n",
       "      <th>top</th>\n",
       "      <td>Liberal Democrats</td>\n",
       "      <td>2017-12-31</td>\n",
       "      <td>Ms Jane Mactaggart</td>\n",
       "      <td>Individual</td>\n",
       "      <td>NaN</td>\n",
       "      <td>NaN</td>\n",
       "      <td>NaN</td>\n",
       "      <td>Political Party</td>\n",
       "      <td>NaN</td>\n",
       "      <td>NaN</td>\n",
       "    </tr>\n",
       "    <tr>\n",
       "      <th>freq</th>\n",
       "      <td>124</td>\n",
       "      <td>101</td>\n",
       "      <td>9</td>\n",
       "      <td>300</td>\n",
       "      <td>NaN</td>\n",
       "      <td>NaN</td>\n",
       "      <td>NaN</td>\n",
       "      <td>300</td>\n",
       "      <td>NaN</td>\n",
       "      <td>NaN</td>\n",
       "    </tr>\n",
       "    <tr>\n",
       "      <th>mean</th>\n",
       "      <td>NaN</td>\n",
       "      <td>NaN</td>\n",
       "      <td>NaN</td>\n",
       "      <td>NaN</td>\n",
       "      <td>2017.003333</td>\n",
       "      <td>10.623333</td>\n",
       "      <td>10488.400400</td>\n",
       "      <td>NaN</td>\n",
       "      <td>65556.336667</td>\n",
       "      <td>NaN</td>\n",
       "    </tr>\n",
       "    <tr>\n",
       "      <th>std</th>\n",
       "      <td>NaN</td>\n",
       "      <td>NaN</td>\n",
       "      <td>NaN</td>\n",
       "      <td>NaN</td>\n",
       "      <td>0.057735</td>\n",
       "      <td>2.544873</td>\n",
       "      <td>32153.305738</td>\n",
       "      <td>NaN</td>\n",
       "      <td>19466.692599</td>\n",
       "      <td>NaN</td>\n",
       "    </tr>\n",
       "    <tr>\n",
       "      <th>min</th>\n",
       "      <td>NaN</td>\n",
       "      <td>NaN</td>\n",
       "      <td>NaN</td>\n",
       "      <td>NaN</td>\n",
       "      <td>2017.000000</td>\n",
       "      <td>1.000000</td>\n",
       "      <td>600.000000</td>\n",
       "      <td>NaN</td>\n",
       "      <td>19152.000000</td>\n",
       "      <td>NaN</td>\n",
       "    </tr>\n",
       "    <tr>\n",
       "      <th>25%</th>\n",
       "      <td>NaN</td>\n",
       "      <td>NaN</td>\n",
       "      <td>NaN</td>\n",
       "      <td>NaN</td>\n",
       "      <td>2017.000000</td>\n",
       "      <td>10.000000</td>\n",
       "      <td>1800.000000</td>\n",
       "      <td>NaN</td>\n",
       "      <td>47058.000000</td>\n",
       "      <td>NaN</td>\n",
       "    </tr>\n",
       "    <tr>\n",
       "      <th>50%</th>\n",
       "      <td>NaN</td>\n",
       "      <td>NaN</td>\n",
       "      <td>NaN</td>\n",
       "      <td>NaN</td>\n",
       "      <td>2017.000000</td>\n",
       "      <td>12.000000</td>\n",
       "      <td>2500.000000</td>\n",
       "      <td>NaN</td>\n",
       "      <td>76334.000000</td>\n",
       "      <td>NaN</td>\n",
       "    </tr>\n",
       "    <tr>\n",
       "      <th>75%</th>\n",
       "      <td>NaN</td>\n",
       "      <td>NaN</td>\n",
       "      <td>NaN</td>\n",
       "      <td>NaN</td>\n",
       "      <td>2017.000000</td>\n",
       "      <td>12.000000</td>\n",
       "      <td>8124.000000</td>\n",
       "      <td>NaN</td>\n",
       "      <td>83335.500000</td>\n",
       "      <td>NaN</td>\n",
       "    </tr>\n",
       "    <tr>\n",
       "      <th>max</th>\n",
       "      <td>NaN</td>\n",
       "      <td>NaN</td>\n",
       "      <td>NaN</td>\n",
       "      <td>NaN</td>\n",
       "      <td>2018.000000</td>\n",
       "      <td>12.000000</td>\n",
       "      <td>400000.000000</td>\n",
       "      <td>NaN</td>\n",
       "      <td>84031.000000</td>\n",
       "      <td>NaN</td>\n",
       "    </tr>\n",
       "  </tbody>\n",
       "</table>\n",
       "</div>"
      ],
      "text/plain": [
       "       RegulatedEntityName AcceptedDate           DonorName DonorStatus  \\\n",
       "count                  300          300                 300         300   \n",
       "unique                  11           91                 247           1   \n",
       "top      Liberal Democrats   2017-12-31  Ms Jane Mactaggart  Individual   \n",
       "freq                   124          101                   9         300   \n",
       "mean                   NaN          NaN                 NaN         NaN   \n",
       "std                    NaN          NaN                 NaN         NaN   \n",
       "min                    NaN          NaN                 NaN         NaN   \n",
       "25%                    NaN          NaN                 NaN         NaN   \n",
       "50%                    NaN          NaN                 NaN         NaN   \n",
       "75%                    NaN          NaN                 NaN         NaN   \n",
       "max                    NaN          NaN                 NaN         NaN   \n",
       "\n",
       "               Year       Month          Value RegulatedEntityType  \\\n",
       "count    300.000000  300.000000     300.000000                 300   \n",
       "unique          NaN         NaN            NaN                   1   \n",
       "top             NaN         NaN            NaN     Political Party   \n",
       "freq            NaN         NaN            NaN                 300   \n",
       "mean    2017.003333   10.623333   10488.400400                 NaN   \n",
       "std        0.057735    2.544873   32153.305738                 NaN   \n",
       "min     2017.000000    1.000000     600.000000                 NaN   \n",
       "25%     2017.000000   10.000000    1800.000000                 NaN   \n",
       "50%     2017.000000   12.000000    2500.000000                 NaN   \n",
       "75%     2017.000000   12.000000    8124.000000                 NaN   \n",
       "max     2018.000000   12.000000  400000.000000                 NaN   \n",
       "\n",
       "             DonorId  CampaigningName  \n",
       "count     300.000000              0.0  \n",
       "unique           NaN              NaN  \n",
       "top              NaN              NaN  \n",
       "freq             NaN              NaN  \n",
       "mean    65556.336667              NaN  \n",
       "std     19466.692599              NaN  \n",
       "min     19152.000000              NaN  \n",
       "25%     47058.000000              NaN  \n",
       "50%     76334.000000              NaN  \n",
       "75%     83335.500000              NaN  \n",
       "max     84031.000000              NaN  "
      ]
     },
     "execution_count": 11,
     "metadata": {},
     "output_type": "execute_result"
    }
   ],
   "source": [
    "df.describe(include='all')"
   ]
  },
  {
   "cell_type": "markdown",
   "metadata": {},
   "source": [
    "For columns with numeric values, `df.describe()` will give back the most information, here's a full list of the parameters and their meaning: \n",
    "\n",
    "**df.describe() parameters**\n",
    "* **count**: number of values in that column\n",
    "* **unique**: number of unique values in that column\n",
    "* **top**: first value in that column\n",
    "* **freq**: the most common value’s frequency\n",
    "* **mean**: average\n",
    "* **std**: standard deviation\n",
    "* **min**: minimum value, lowest value in the column\n",
    "* **25%**: first percentile\n",
    "* **50%**: second percentile, this is the same as the median\n",
    "* **75%**: thirth percentile\n",
    "* **max**: maximum value, highest value in the column\n",
    "\n",
    "If a column does not contain numeric value, only those parameters that are applicable are returned. Python gives you NaN-values when that's the case - NaN is short for Not a Number. \n",
    "\n",
    "Notice that 'count' is 300 for every column. This means that every column has a value for every row in the dataset. How do I know? I looked at the total number of rows, using `df.shape`."
   ]
  },
  {
   "cell_type": "code",
   "execution_count": 10,
   "metadata": {},
   "outputs": [
    {
     "data": {
      "text/plain": [
       "(300, 10)"
      ]
     },
     "execution_count": 10,
     "metadata": {},
     "output_type": "execute_result"
    }
   ],
   "source": [
    "df.shape"
   ]
  },
  {
   "cell_type": "markdown",
   "metadata": {},
   "source": [
    "## Filter\n",
    "\n",
    "Let's try to filter the dataframe based on the value in the Value column. You can do this using `df[df['Value'] > 10000 ]`. This will give you a dataframe with only donations from 10.000 pound or more."
   ]
  },
  {
   "cell_type": "code",
   "execution_count": 12,
   "metadata": {
    "scrolled": true
   },
   "outputs": [
    {
     "data": {
      "text/html": [
       "<div>\n",
       "<style scoped>\n",
       "    .dataframe tbody tr th:only-of-type {\n",
       "        vertical-align: middle;\n",
       "    }\n",
       "\n",
       "    .dataframe tbody tr th {\n",
       "        vertical-align: top;\n",
       "    }\n",
       "\n",
       "    .dataframe thead th {\n",
       "        text-align: right;\n",
       "    }\n",
       "</style>\n",
       "<table border=\"1\" class=\"dataframe\">\n",
       "  <thead>\n",
       "    <tr style=\"text-align: right;\">\n",
       "      <th></th>\n",
       "      <th>RegulatedEntityName</th>\n",
       "      <th>AcceptedDate</th>\n",
       "      <th>DonorName</th>\n",
       "      <th>DonorStatus</th>\n",
       "      <th>Year</th>\n",
       "      <th>Month</th>\n",
       "      <th>Value</th>\n",
       "      <th>RegulatedEntityType</th>\n",
       "      <th>DonorId</th>\n",
       "      <th>CampaigningName</th>\n",
       "    </tr>\n",
       "  </thead>\n",
       "  <tbody>\n",
       "    <tr>\n",
       "      <th>170</th>\n",
       "      <td>Scottish Green Party</td>\n",
       "      <td>2017-12-01</td>\n",
       "      <td>Mr Mark Christopher Ruskell</td>\n",
       "      <td>Individual</td>\n",
       "      <td>2017</td>\n",
       "      <td>12</td>\n",
       "      <td>7805.16</td>\n",
       "      <td>Political Party</td>\n",
       "      <td>83321</td>\n",
       "      <td>NaN</td>\n",
       "    </tr>\n",
       "  </tbody>\n",
       "</table>\n",
       "</div>"
      ],
      "text/plain": [
       "      RegulatedEntityName AcceptedDate                    DonorName  \\\n",
       "170  Scottish Green Party   2017-12-01  Mr Mark Christopher Ruskell   \n",
       "\n",
       "    DonorStatus  Year  Month    Value RegulatedEntityType  DonorId  \\\n",
       "170  Individual  2017     12  7805.16     Political Party    83321   \n",
       "\n",
       "     CampaigningName  \n",
       "170              NaN  "
      ]
     },
     "execution_count": 12,
     "metadata": {},
     "output_type": "execute_result"
    }
   ],
   "source": [
    "df.sample()"
   ]
  },
  {
   "cell_type": "code",
   "execution_count": 19,
   "metadata": {
    "scrolled": false
   },
   "outputs": [
    {
     "data": {
      "text/html": [
       "<div>\n",
       "<style scoped>\n",
       "    .dataframe tbody tr th:only-of-type {\n",
       "        vertical-align: middle;\n",
       "    }\n",
       "\n",
       "    .dataframe tbody tr th {\n",
       "        vertical-align: top;\n",
       "    }\n",
       "\n",
       "    .dataframe thead th {\n",
       "        text-align: right;\n",
       "    }\n",
       "</style>\n",
       "<table border=\"1\" class=\"dataframe\">\n",
       "  <thead>\n",
       "    <tr style=\"text-align: right;\">\n",
       "      <th></th>\n",
       "      <th>RegulatedEntityName</th>\n",
       "      <th>AcceptedDate</th>\n",
       "      <th>DonorName</th>\n",
       "      <th>DonorStatus</th>\n",
       "      <th>Year</th>\n",
       "      <th>Month</th>\n",
       "      <th>Value</th>\n",
       "      <th>RegulatedEntityType</th>\n",
       "      <th>DonorId</th>\n",
       "      <th>CampaigningName</th>\n",
       "    </tr>\n",
       "  </thead>\n",
       "  <tbody>\n",
       "    <tr>\n",
       "      <th>151</th>\n",
       "      <td>Green Party</td>\n",
       "      <td>2017-12-07</td>\n",
       "      <td>Ms Jean Lambert MEP</td>\n",
       "      <td>Individual</td>\n",
       "      <td>2017</td>\n",
       "      <td>12</td>\n",
       "      <td>600.0</td>\n",
       "      <td>Political Party</td>\n",
       "      <td>34382</td>\n",
       "      <td>NaN</td>\n",
       "    </tr>\n",
       "    <tr>\n",
       "      <th>216</th>\n",
       "      <td>Green Party</td>\n",
       "      <td>2017-11-05</td>\n",
       "      <td>Ms Jean Lambert MEP</td>\n",
       "      <td>Individual</td>\n",
       "      <td>2017</td>\n",
       "      <td>11</td>\n",
       "      <td>600.0</td>\n",
       "      <td>Political Party</td>\n",
       "      <td>34382</td>\n",
       "      <td>NaN</td>\n",
       "    </tr>\n",
       "    <tr>\n",
       "      <th>237</th>\n",
       "      <td>Green Party</td>\n",
       "      <td>2017-10-22</td>\n",
       "      <td>Ms Jean Lambert MEP</td>\n",
       "      <td>Individual</td>\n",
       "      <td>2017</td>\n",
       "      <td>10</td>\n",
       "      <td>600.0</td>\n",
       "      <td>Political Party</td>\n",
       "      <td>34382</td>\n",
       "      <td>NaN</td>\n",
       "    </tr>\n",
       "    <tr>\n",
       "      <th>241</th>\n",
       "      <td>Conservative and Unionist Party</td>\n",
       "      <td>2017-10-17</td>\n",
       "      <td>Scirard Lancelyn Green</td>\n",
       "      <td>Individual</td>\n",
       "      <td>2017</td>\n",
       "      <td>10</td>\n",
       "      <td>600.0</td>\n",
       "      <td>Political Party</td>\n",
       "      <td>76334</td>\n",
       "      <td>NaN</td>\n",
       "    </tr>\n",
       "    <tr>\n",
       "      <th>242</th>\n",
       "      <td>Conservative and Unionist Party</td>\n",
       "      <td>2017-10-17</td>\n",
       "      <td>Scirard Lancelyn Green</td>\n",
       "      <td>Individual</td>\n",
       "      <td>2017</td>\n",
       "      <td>10</td>\n",
       "      <td>600.0</td>\n",
       "      <td>Political Party</td>\n",
       "      <td>76334</td>\n",
       "      <td>NaN</td>\n",
       "    </tr>\n",
       "  </tbody>\n",
       "</table>\n",
       "</div>"
      ],
      "text/plain": [
       "                 RegulatedEntityName AcceptedDate               DonorName  \\\n",
       "151                      Green Party   2017-12-07     Ms Jean Lambert MEP   \n",
       "216                      Green Party   2017-11-05     Ms Jean Lambert MEP   \n",
       "237                      Green Party   2017-10-22     Ms Jean Lambert MEP   \n",
       "241  Conservative and Unionist Party   2017-10-17  Scirard Lancelyn Green   \n",
       "242  Conservative and Unionist Party   2017-10-17  Scirard Lancelyn Green   \n",
       "\n",
       "    DonorStatus  Year  Month  Value RegulatedEntityType  DonorId  \\\n",
       "151  Individual  2017     12  600.0     Political Party    34382   \n",
       "216  Individual  2017     11  600.0     Political Party    34382   \n",
       "237  Individual  2017     10  600.0     Political Party    34382   \n",
       "241  Individual  2017     10  600.0     Political Party    76334   \n",
       "242  Individual  2017     10  600.0     Political Party    76334   \n",
       "\n",
       "     CampaigningName  \n",
       "151              NaN  \n",
       "216              NaN  \n",
       "237              NaN  \n",
       "241              NaN  \n",
       "242              NaN  "
      ]
     },
     "execution_count": 19,
     "metadata": {},
     "output_type": "execute_result"
    }
   ],
   "source": [
    "df[df['Value'] < 601]"
   ]
  },
  {
   "cell_type": "code",
   "execution_count": 20,
   "metadata": {},
   "outputs": [
    {
     "data": {
      "text/plain": [
       "(300, 10)"
      ]
     },
     "execution_count": 20,
     "metadata": {},
     "output_type": "execute_result"
    }
   ],
   "source": [
    "df.shape"
   ]
  },
  {
   "cell_type": "markdown",
   "metadata": {},
   "source": [
    "## Sort\n",
    "Let's try to sort the data. Using the command `df.sort_values(by='column_name')` will sort the dataframe based on the column of your choosing. Sorting by default happens ascending, from small to big. \n",
    "\n",
    "In case you want to see the sorting from big to small, descending, you'll have to type: `df.sort_values(by='column_name', ascending=False)`.\n",
    "\n",
    "Now, let's try to sort the dataframe based on the number in the Value column it's easy to find out who made the biggest donation. \n",
    "\n",
    "The above commands will sort the dataframe by a column, but - since we never asked our notebook to - won't show the data. To sort the data and show us the new order of the top 10, we'll have to combine the command with `.head(10)` like this: `df.sort_values(by='column_name').head(10)`.\n",
    "\n",
    "Now, what would you type if you want to see the 10 smallest donations?"
   ]
  },
  {
   "cell_type": "code",
   "execution_count": 23,
   "metadata": {
    "scrolled": false
   },
   "outputs": [
    {
     "data": {
      "text/html": [
       "<div>\n",
       "<style scoped>\n",
       "    .dataframe tbody tr th:only-of-type {\n",
       "        vertical-align: middle;\n",
       "    }\n",
       "\n",
       "    .dataframe tbody tr th {\n",
       "        vertical-align: top;\n",
       "    }\n",
       "\n",
       "    .dataframe thead th {\n",
       "        text-align: right;\n",
       "    }\n",
       "</style>\n",
       "<table border=\"1\" class=\"dataframe\">\n",
       "  <thead>\n",
       "    <tr style=\"text-align: right;\">\n",
       "      <th></th>\n",
       "      <th>RegulatedEntityName</th>\n",
       "      <th>AcceptedDate</th>\n",
       "      <th>DonorName</th>\n",
       "      <th>DonorStatus</th>\n",
       "      <th>Year</th>\n",
       "      <th>Month</th>\n",
       "      <th>Value</th>\n",
       "      <th>RegulatedEntityType</th>\n",
       "      <th>DonorId</th>\n",
       "      <th>CampaigningName</th>\n",
       "    </tr>\n",
       "  </thead>\n",
       "  <tbody>\n",
       "    <tr>\n",
       "      <th>229</th>\n",
       "      <td>Conservative and Unionist Party</td>\n",
       "      <td>2017-10-30</td>\n",
       "      <td>Mr Byron S Huson</td>\n",
       "      <td>Individual</td>\n",
       "      <td>2017</td>\n",
       "      <td>10</td>\n",
       "      <td>400000.00</td>\n",
       "      <td>Political Party</td>\n",
       "      <td>83882</td>\n",
       "      <td>NaN</td>\n",
       "    </tr>\n",
       "    <tr>\n",
       "      <th>137</th>\n",
       "      <td>Conservative and Unionist Party</td>\n",
       "      <td>2017-12-14</td>\n",
       "      <td>Mr Michael Davis</td>\n",
       "      <td>Individual</td>\n",
       "      <td>2017</td>\n",
       "      <td>12</td>\n",
       "      <td>271000.00</td>\n",
       "      <td>Political Party</td>\n",
       "      <td>34240</td>\n",
       "      <td>NaN</td>\n",
       "    </tr>\n",
       "    <tr>\n",
       "      <th>257</th>\n",
       "      <td>Scottish National Party (SNP)</td>\n",
       "      <td>2017-10-06</td>\n",
       "      <td>Mr Ian McNish</td>\n",
       "      <td>Individual</td>\n",
       "      <td>2017</td>\n",
       "      <td>10</td>\n",
       "      <td>175000.00</td>\n",
       "      <td>Political Party</td>\n",
       "      <td>78128</td>\n",
       "      <td>NaN</td>\n",
       "    </tr>\n",
       "    <tr>\n",
       "      <th>128</th>\n",
       "      <td>Conservative and Unionist Party</td>\n",
       "      <td>2017-12-14</td>\n",
       "      <td>Lord Stanley Fink</td>\n",
       "      <td>Individual</td>\n",
       "      <td>2017</td>\n",
       "      <td>12</td>\n",
       "      <td>111600.00</td>\n",
       "      <td>Political Party</td>\n",
       "      <td>47072</td>\n",
       "      <td>NaN</td>\n",
       "    </tr>\n",
       "    <tr>\n",
       "      <th>248</th>\n",
       "      <td>Conservative and Unionist Party</td>\n",
       "      <td>2017-10-11</td>\n",
       "      <td>Ms Lesley Jackson</td>\n",
       "      <td>Individual</td>\n",
       "      <td>2017</td>\n",
       "      <td>10</td>\n",
       "      <td>100000.00</td>\n",
       "      <td>Political Party</td>\n",
       "      <td>38745</td>\n",
       "      <td>NaN</td>\n",
       "    </tr>\n",
       "    <tr>\n",
       "      <th>238</th>\n",
       "      <td>Conservative and Unionist Party</td>\n",
       "      <td>2017-10-19</td>\n",
       "      <td>Mr Ian R Taylor</td>\n",
       "      <td>Individual</td>\n",
       "      <td>2017</td>\n",
       "      <td>10</td>\n",
       "      <td>100000.00</td>\n",
       "      <td>Political Party</td>\n",
       "      <td>76312</td>\n",
       "      <td>NaN</td>\n",
       "    </tr>\n",
       "    <tr>\n",
       "      <th>200</th>\n",
       "      <td>Plaid Cymru - The Party of Wales</td>\n",
       "      <td>2017-11-17</td>\n",
       "      <td>Ms Jane Mactaggart</td>\n",
       "      <td>Individual</td>\n",
       "      <td>2017</td>\n",
       "      <td>11</td>\n",
       "      <td>61473.89</td>\n",
       "      <td>Political Party</td>\n",
       "      <td>83317</td>\n",
       "      <td>NaN</td>\n",
       "    </tr>\n",
       "    <tr>\n",
       "      <th>202</th>\n",
       "      <td>Conservative and Unionist Party</td>\n",
       "      <td>2017-11-16</td>\n",
       "      <td>Mrs Mary Erbrich</td>\n",
       "      <td>Individual</td>\n",
       "      <td>2017</td>\n",
       "      <td>11</td>\n",
       "      <td>60000.00</td>\n",
       "      <td>Political Party</td>\n",
       "      <td>76714</td>\n",
       "      <td>NaN</td>\n",
       "    </tr>\n",
       "    <tr>\n",
       "      <th>254</th>\n",
       "      <td>Conservative and Unionist Party</td>\n",
       "      <td>2017-10-09</td>\n",
       "      <td>Mr Michael A Dangoor</td>\n",
       "      <td>Individual</td>\n",
       "      <td>2017</td>\n",
       "      <td>10</td>\n",
       "      <td>56600.00</td>\n",
       "      <td>Political Party</td>\n",
       "      <td>83834</td>\n",
       "      <td>NaN</td>\n",
       "    </tr>\n",
       "    <tr>\n",
       "      <th>219</th>\n",
       "      <td>Conservative and Unionist Party</td>\n",
       "      <td>2017-11-01</td>\n",
       "      <td>Mr Oluwole Kolade</td>\n",
       "      <td>Individual</td>\n",
       "      <td>2017</td>\n",
       "      <td>11</td>\n",
       "      <td>52500.00</td>\n",
       "      <td>Political Party</td>\n",
       "      <td>38762</td>\n",
       "      <td>NaN</td>\n",
       "    </tr>\n",
       "  </tbody>\n",
       "</table>\n",
       "</div>"
      ],
      "text/plain": [
       "                  RegulatedEntityName AcceptedDate             DonorName  \\\n",
       "229   Conservative and Unionist Party   2017-10-30      Mr Byron S Huson   \n",
       "137   Conservative and Unionist Party   2017-12-14      Mr Michael Davis   \n",
       "257     Scottish National Party (SNP)   2017-10-06         Mr Ian McNish   \n",
       "128   Conservative and Unionist Party   2017-12-14     Lord Stanley Fink   \n",
       "248   Conservative and Unionist Party   2017-10-11     Ms Lesley Jackson   \n",
       "238   Conservative and Unionist Party   2017-10-19       Mr Ian R Taylor   \n",
       "200  Plaid Cymru - The Party of Wales   2017-11-17    Ms Jane Mactaggart   \n",
       "202   Conservative and Unionist Party   2017-11-16      Mrs Mary Erbrich   \n",
       "254   Conservative and Unionist Party   2017-10-09  Mr Michael A Dangoor   \n",
       "219   Conservative and Unionist Party   2017-11-01     Mr Oluwole Kolade   \n",
       "\n",
       "    DonorStatus  Year  Month      Value RegulatedEntityType  DonorId  \\\n",
       "229  Individual  2017     10  400000.00     Political Party    83882   \n",
       "137  Individual  2017     12  271000.00     Political Party    34240   \n",
       "257  Individual  2017     10  175000.00     Political Party    78128   \n",
       "128  Individual  2017     12  111600.00     Political Party    47072   \n",
       "248  Individual  2017     10  100000.00     Political Party    38745   \n",
       "238  Individual  2017     10  100000.00     Political Party    76312   \n",
       "200  Individual  2017     11   61473.89     Political Party    83317   \n",
       "202  Individual  2017     11   60000.00     Political Party    76714   \n",
       "254  Individual  2017     10   56600.00     Political Party    83834   \n",
       "219  Individual  2017     11   52500.00     Political Party    38762   \n",
       "\n",
       "     CampaigningName  \n",
       "229              NaN  \n",
       "137              NaN  \n",
       "257              NaN  \n",
       "128              NaN  \n",
       "248              NaN  \n",
       "238              NaN  \n",
       "200              NaN  \n",
       "202              NaN  \n",
       "254              NaN  \n",
       "219              NaN  "
      ]
     },
     "execution_count": 23,
     "metadata": {},
     "output_type": "execute_result"
    }
   ],
   "source": [
    "df.sort_values(by='Value', ascending=False).head(10)"
   ]
  },
  {
   "cell_type": "markdown",
   "metadata": {},
   "source": [
    "If you want to see the biggest donations made, use `df.sort_values(by='Value', ascending=False).head(10)`. This will sort the dataframe based on the Value column from big to small."
   ]
  },
  {
   "cell_type": "code",
   "execution_count": null,
   "metadata": {},
   "outputs": [],
   "source": []
  },
  {
   "cell_type": "markdown",
   "metadata": {},
   "source": [
    "## Sum\n",
    "\n",
    "Wow! There are some big donations in our dataset. If you want to know how much money was donated in total, you need to get the sum of the column Value. Use `df['Value'].sum()`."
   ]
  },
  {
   "cell_type": "code",
   "execution_count": 24,
   "metadata": {},
   "outputs": [
    {
     "data": {
      "text/plain": [
       "3146520.12"
      ]
     },
     "execution_count": 24,
     "metadata": {},
     "output_type": "execute_result"
    }
   ],
   "source": [
    "df['Value'].sum()"
   ]
  },
  {
   "cell_type": "markdown",
   "metadata": {},
   "source": [
    "## Count"
   ]
  },
  {
   "cell_type": "markdown",
   "metadata": {},
   "source": [
    "Let's look at the receivers of all this donation money. Use `df['RegulatedEntityName'].count()` to count the number of times a regulated entity received a donation.\n",
    "\n"
   ]
  },
  {
   "cell_type": "code",
   "execution_count": 26,
   "metadata": {
    "scrolled": false
   },
   "outputs": [
    {
     "data": {
      "text/plain": [
       "300"
      ]
     },
     "execution_count": 26,
     "metadata": {},
     "output_type": "execute_result"
    }
   ],
   "source": [
    "df['RegulatedEntityName'].count()"
   ]
  },
  {
   "cell_type": "markdown",
   "metadata": {},
   "source": [
    "Not really what we were looking for, right? Using `.count()` gives you the number of values in a column. Not the number of appearances per unique value in the column. \n",
    "\n",
    "You'll need to use `df['RegulatedEntityName'].value_counts()` if you want to know that... "
   ]
  },
  {
   "cell_type": "code",
   "execution_count": 27,
   "metadata": {},
   "outputs": [
    {
     "data": {
      "text/plain": [
       "Liberal Democrats                   124\n",
       "Conservative and Unionist Party     117\n",
       "UK Independence Party (UKIP)         20\n",
       "Labour Party                         18\n",
       "Scottish Green Party                  6\n",
       "Green Party                           5\n",
       "Scottish National Party (SNP)         3\n",
       "Plaid Cymru - The Party of Wales      3\n",
       "Renew                                 2\n",
       "British National Party                1\n",
       "Women's Equality Party                1\n",
       "Name: RegulatedEntityName, dtype: int64"
      ]
     },
     "execution_count": 27,
     "metadata": {},
     "output_type": "execute_result"
    }
   ],
   "source": [
    "df['RegulatedEntityName'].value_counts()"
   ]
  },
  {
   "cell_type": "markdown",
   "metadata": {},
   "source": [
    "Ok. Let's see if you really understand the difference between `.value_counts()` and `.count()` If you want to know how many donors have donated, you should count the values in the DonorName column. Do you use `df['DonorName'].value_counts()` or `df['DonorName'].count()`?\n",
    "\n",
    "When in doubt, try both. Remember: we're using a Jupyter Notebook here. It's a **Notebook**, so you can't go wrong here. :)"
   ]
  },
  {
   "cell_type": "code",
   "execution_count": 28,
   "metadata": {},
   "outputs": [
    {
     "data": {
      "text/plain": [
       "300"
      ]
     },
     "execution_count": 28,
     "metadata": {},
     "output_type": "execute_result"
    }
   ],
   "source": [
    "df['DonorName'].count()"
   ]
  },
  {
   "cell_type": "code",
   "execution_count": 29,
   "metadata": {},
   "outputs": [
    {
     "data": {
      "text/plain": [
       "Ms Jane Mactaggart                   9\n",
       "Mr Duncan Greenland                  8\n",
       "Lord Charles Falconer of Thoroton    6\n",
       "Mr Malcolm Bluemel                   5\n",
       "Mr Mark  Petterson                   4\n",
       "                                    ..\n",
       "Mr Michael Slade                     1\n",
       "Mr Robert D Calrow                   1\n",
       "Mr John Mason                        1\n",
       "Mr Palminder Singh                   1\n",
       "Mr Alexey  Chudnovskiy               1\n",
       "Name: DonorName, Length: 247, dtype: int64"
      ]
     },
     "execution_count": 29,
     "metadata": {},
     "output_type": "execute_result"
    }
   ],
   "source": [
    "df['DonorName'].value_counts()"
   ]
  },
  {
   "cell_type": "markdown",
   "metadata": {},
   "source": [
    "Interesting: apparently Ms Jane Mactaggart, Mr Duncan Greenland, and Lord Charles Falconer of Thoroton have donated most often. Let's look into that...\n",
    "\n",
    "## Groupby\n",
    "If you're familiar with Excel, you probably heard of 'pivot tables'. Python Pandas has a function very similar to those pivot tables. \n",
    "\n",
    "Let's start with a small refresher: pivot tables are summaries of a dataset inside a new table. Huh? That's might be a lot to take in. \n",
    "\n",
    "Look at our example: data on donations to political parties in the UK. If we want to know how much each unique donor donated, we are looking for a specific summary of our dataset. To get the anwer to this question: 'How much have Ms Jane Mactaggart, Mr Duncan Greenland, and Lord Charles Falconer of Thoroton donated in total?' We need Pandas to sum up all donation for every donor in the dataframe. In a way, this is a summary of the original dataframe by grouping values by in this case the column DonorName. \n",
    "\n",
    "Using Python this can be done using the group by function. Let's create a new dataframe called donors, that has all donors and the total sum of their donations in there. Use `donors = df.groupby('DonorName')['Value'].sum()`. This is a combination of several functions: group data by 'DonorName', and sum the data in the 'Value' column..."
   ]
  },
  {
   "cell_type": "code",
   "execution_count": 36,
   "metadata": {},
   "outputs": [
    {
     "data": {
      "text/plain": [
       "DonorName\n",
       "Baroness Barbara Janke         1600.00\n",
       "Baroness Emma Nicholson        2499.99\n",
       "Baroness Kathryn Parminter     2400.00\n",
       "Baroness Shirley Williams      1700.00\n",
       "Christopher Williams           1506.37\n",
       "Clive Hollick                 20000.00\n",
       "Cllr Ian Shires                1920.00\n",
       "Cllr Joe Harris                1557.25\n",
       "Dr Alun  Griffiths             1800.00\n",
       "Dr Arujuna Sivananthan         2499.00\n",
       "Name: Value, dtype: float64"
      ]
     },
     "execution_count": 36,
     "metadata": {},
     "output_type": "execute_result"
    }
   ],
   "source": [
    "donors = df.groupby('DonorName')['Value'].sum()\n",
    "donors.head(10)"
   ]
  },
  {
   "cell_type": "code",
   "execution_count": null,
   "metadata": {},
   "outputs": [],
   "source": []
  },
  {
   "cell_type": "markdown",
   "metadata": {},
   "source": [
    "To see if it worked, you'll have to add `donors.head(10)`, otherwise your computer won't know that you actually want to see the result of your effort. :)\n",
    "\n",
    "## Pivot tables\n",
    "\n",
    "But Python has it's own pivot table as well. You can get a similar result in a better looking table using de `df.pivot_table` function. \n",
    "\n",
    "Here's a perfectly fine `.pivot_table` example:\n",
    "`df.pivot_table(values=\"Value\", index=\"DonorName\", columns=\"Year\", aggfunc='sum').sort_values(2018).head(10)`\n",
    "\n",
    "Let's go over this code before running it. What will `df.pivot_table(values=\"Value\", index=\"DonorName\", columns=\"Year\", aggfunc='sum').sort_values(2018).head(10)` actually do? \n",
    "\n",
    "For the dataframe called df, create a pivot table where: \n",
    "- the values in the pivot table should be based on the Value column\n",
    "- the index of the pivot table should be base don the DonorName column, in other words: create a row for every unique value in the DonorName column\n",
    "- create a new column for every unique value in the Year column\n",
    "- aggregate the data that fills up these columns (from the Value column, see?) by summing it for every row. \n",
    "\n",
    "Are you ready to try it yourself?"
   ]
  },
  {
   "cell_type": "code",
   "execution_count": 43,
   "metadata": {},
   "outputs": [],
   "source": [
    "donors2 = df.pivot_table(values='Value', index='DonorName', columns='Year', aggfunc='sum').sort_values(2017, ascending=False)"
   ]
  },
  {
   "cell_type": "markdown",
   "metadata": {},
   "source": [
    "## Save your data\n",
    "\n",
    "Now that we've put all this work into cleaning our dataset, let's save a copy. Off course Pandas has a nifty command for that too. Use `dataframe.to_csv('filename.csv', encoding='utf8')`. \n",
    "\n",
    "Be ware: use a different name than the filename of the original data file, or it will be overwritten. "
   ]
  },
  {
   "cell_type": "code",
   "execution_count": 44,
   "metadata": {},
   "outputs": [],
   "source": [
    "donors2.to_csv('donors2.csv', encoding='utf-8')"
   ]
  },
  {
   "cell_type": "markdown",
   "metadata": {},
   "source": [
    "In case you want to check if a new file was created in your directory, you can use the `pwd` and `ls` commands. At the beginning of this module, we used these commands to print the working directory (`pwd`) and list the content of the working directory (`ls`). \n",
    "\n",
    "First, use `pwd` to see in which folder - also known as directory - you are:"
   ]
  },
  {
   "cell_type": "code",
   "execution_count": 45,
   "metadata": {},
   "outputs": [
    {
     "data": {
      "text/plain": [
       "'/Users/shylanott/Desktop/pythonforjournalists/3 analyse data'"
      ]
     },
     "execution_count": 45,
     "metadata": {},
     "output_type": "execute_result"
    }
   ],
   "source": [
    "pwd"
   ]
  },
  {
   "cell_type": "markdown",
   "metadata": {},
   "source": [
    "Now use `ls` to get a list of all files in this directory. If everything worked your newly saved datafile should be among the files in the list. "
   ]
  },
  {
   "cell_type": "code",
   "execution_count": 46,
   "metadata": {
    "scrolled": true
   },
   "outputs": [
    {
     "name": "stdout",
     "output_type": "stream",
     "text": [
      "\u001b[31m3 Analyse data.ipynb\u001b[m\u001b[m*             donors2.csv\r\n",
      "\u001b[31mAnalyse data - Complete v2.ipynb\u001b[m\u001b[m* \u001b[31mresults_clean.csv\u001b[m\u001b[m*\r\n",
      "\u001b[31mAnalyse data v2.ipynb\u001b[m\u001b[m*\r\n"
     ]
    }
   ],
   "source": [
    "ls"
   ]
  },
  {
   "cell_type": "code",
   "execution_count": null,
   "metadata": {},
   "outputs": [],
   "source": []
  }
 ],
 "metadata": {
  "kernelspec": {
   "display_name": "Python 3",
   "language": "python",
   "name": "python3"
  },
  "language_info": {
   "codemirror_mode": {
    "name": "ipython",
    "version": 3
   },
   "file_extension": ".py",
   "mimetype": "text/x-python",
   "name": "python",
   "nbconvert_exporter": "python",
   "pygments_lexer": "ipython3",
   "version": "3.8.0"
  }
 },
 "nbformat": 4,
 "nbformat_minor": 2
}
